{
 "cells": [
  {
   "cell_type": "markdown",
   "id": "02f3d7e9-08c8-4709-a13b-df9cd50a710d",
   "metadata": {},
   "source": [
    "# Data Science Tools and Ecosystem"
   ]
  },
  {
   "cell_type": "markdown",
   "id": "b2f6daa8-e9f0-419e-881f-cbac268d1025",
   "metadata": {},
   "source": [
    "in this notebook,Data science Tools and Ecosystem are summarized."
   ]
  },
  {
   "cell_type": "markdown",
   "id": "09f221af-696b-4261-b5b8-7ceeab23f13c",
   "metadata": {},
   "source": [
    "Some of the popular languages that Data Scientists use are:\n",
    "\n",
    "1.Python \n",
    "2.R\n",
    "3.SQL\n",
    "4.C++\n",
    "5.Java etc...;"
   ]
  },
  {
   "cell_type": "markdown",
   "id": "7e7e7fb6-d0c6-4708-866e-e4f798e5d7b9",
   "metadata": {},
   "source": [
    "Some of the commonly used libraries used by Data Scientists include:\n",
    "\n",
    "  1.TensrFlow.\n",
    "  2.NumPy\n",
    "  3.SciPy\n",
    "  4.Pandas.\n",
    "  5.Matplotlib\n",
    "  6.Keras.\n",
    "  7.SciKit-Learn\n",
    "  8.PyTorch.etc..;"
   ]
  },
  {
   "cell_type": "markdown",
   "id": "881c8825-a3eb-4c3b-82fa-60c53049e2cd",
   "metadata": {
    "jupyter": {
     "source_hidden": true
    }
   },
   "source": [
    "|Data Science Tools|\n",
    "|---|\n",
    "|Jupyter Notebooks|\n",
    "|Anaconda|\n",
    "|R Studio|\n",
    "|Apache Hadoop|\n",
    "|TensorFlow|\n",
    "|Spyder|"
   ]
  },
  {
   "cell_type": "markdown",
   "id": "68cab062-0662-49d2-a171-ac8ad788f397",
   "metadata": {},
   "source": [
    "### Below are a few examples of evaluating arithmetic expressions in Python."
   ]
  },
  {
   "cell_type": "code",
   "execution_count": 3,
   "id": "b0e2c6ae-ae56-40d3-9aa1-ac7ad63fe54c",
   "metadata": {},
   "outputs": [
    {
     "data": {
      "text/plain": [
       "17"
      ]
     },
     "execution_count": 3,
     "metadata": {},
     "output_type": "execute_result"
    }
   ],
   "source": [
    "#This a simple arithmetic expression to mutiply then add integers.\n",
    "(3*4)+5"
   ]
  },
  {
   "cell_type": "code",
   "execution_count": 4,
   "id": "ec75dab5-8690-4fc5-8735-63b5f41ee728",
   "metadata": {},
   "outputs": [
    {
     "data": {
      "text/plain": [
       "3.3333333333333335"
      ]
     },
     "execution_count": 4,
     "metadata": {},
     "output_type": "execute_result"
    }
   ],
   "source": [
    "#This will convert 200 minutes to hours by diving by 60.\n",
    "200/60"
   ]
  },
  {
   "cell_type": "markdown",
   "id": "76f0e616-1444-4b25-806f-6607b10603bd",
   "metadata": {},
   "source": [
    "__Objectives__\n",
    "* List popular languages for Data Science\n",
    "* List popular libraries for Data Science\n",
    "* List of well known Data science Tools\n",
    "* How to Provide comments in the cell"
   ]
  },
  {
   "cell_type": "markdown",
   "id": "06593ec0-ec31-49ae-a9a6-37567685cf6e",
   "metadata": {},
   "source": [
    "## Author\n",
    "vadde Ganesh kumar"
   ]
  }
 ],
 "metadata": {
  "kernelspec": {
   "display_name": "Python 3 (ipykernel)",
   "language": "python",
   "name": "python3"
  },
  "language_info": {
   "codemirror_mode": {
    "name": "ipython",
    "version": 3
   },
   "file_extension": ".py",
   "mimetype": "text/x-python",
   "name": "python",
   "nbconvert_exporter": "python",
   "pygments_lexer": "ipython3",
   "version": "3.13.0"
  }
 },
 "nbformat": 4,
 "nbformat_minor": 5
}
